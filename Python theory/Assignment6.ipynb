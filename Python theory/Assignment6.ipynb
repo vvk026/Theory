{
 "cells": [
  {
   "cell_type": "code",
   "execution_count": null,
   "metadata": {},
   "outputs": [],
   "source": [
    "1. What are escape characters, and how do you use them?\n",
    "A)escape charachther are backslash followed by the charachther you want to insert"
   ]
  },
  {
   "cell_type": "code",
   "execution_count": null,
   "metadata": {},
   "outputs": [],
   "source": [
    "2. What do the escape characters n and t stand for?\n",
    "A)\\n-next line\n",
    "\\t-tab space"
   ]
  },
  {
   "cell_type": "code",
   "execution_count": null,
   "metadata": {},
   "outputs": [],
   "source": [
    "3. What is the way to include backslash characters in a string?\n",
    "A)use 2 backslash (\\\\)"
   ]
  },
  {
   "cell_type": "code",
   "execution_count": null,
   "metadata": {},
   "outputs": [],
   "source": [
    "4. The string \"Howl's Moving Castle\" is a correct value. Why isn't the single quote character in the word Howl's not escaped a problem?\n",
    "A)since we used double quotes, using single quote inside double quote is not an issue. using singlequote inside singlequote will\n",
    "cause error."
   ]
  },
  {
   "cell_type": "code",
   "execution_count": null,
   "metadata": {},
   "outputs": [],
   "source": [
    "5. How do you write a string of newlines if you don't want to use the n character?\n",
    "A)\\r- carriage return\n",
    "it will move the cursor to the begining of the line withouth advancing to next line."
   ]
  },
  {
   "cell_type": "code",
   "execution_count": null,
   "metadata": {},
   "outputs": [],
   "source": [
    "6. What are the values of the given expressions?\n",
    "'Hello, world!'[1]\n",
    "'Hello, world!'[0:5]\n",
    "'Hello, world!'[:5]\n",
    "'Hello, world!'[3:]\n",
    "A)e\n",
    "Hello\n",
    "Hello\n",
    "lo, world!"
   ]
  },
  {
   "cell_type": "code",
   "execution_count": null,
   "metadata": {},
   "outputs": [],
   "source": [
    "7. What are the values of the following expressions?\n",
    "'Hello'.upper()\n",
    "'Hello'.upper().isupper()\n",
    "'Hello'.upper().lower()\n",
    "A)HELLO\n",
    "True\n",
    "hello"
   ]
  },
  {
   "cell_type": "code",
   "execution_count": null,
   "metadata": {},
   "outputs": [],
   "source": [
    "8. What are the values of the following expressions?\n",
    "'Remember, remember, the fifth of July.'.split()\n",
    "'-'.join('There can only one.'.split())\n",
    "A)['Remember,', 'remember,', 'the', 'fifth', 'of', 'July.']\n",
    "'There-can-only-one.'"
   ]
  },
  {
   "cell_type": "code",
   "execution_count": null,
   "metadata": {},
   "outputs": [],
   "source": [
    "9. What are the methods for right-justifying, left-justifying, and centering a string?\n",
    "A)ljust(), rjust(), center()"
   ]
  },
  {
   "cell_type": "code",
   "execution_count": null,
   "metadata": {},
   "outputs": [],
   "source": [
    "10. What is the best way to remove whitespace characters from the start or end?\n",
    "A)strip()"
   ]
  }
 ],
 "metadata": {
  "kernelspec": {
   "display_name": "Python 3",
   "language": "python",
   "name": "python3"
  },
  "language_info": {
   "codemirror_mode": {
    "name": "ipython",
    "version": 3
   },
   "file_extension": ".py",
   "mimetype": "text/x-python",
   "name": "python",
   "nbconvert_exporter": "python",
   "pygments_lexer": "ipython3",
   "version": "3.8.5"
  }
 },
 "nbformat": 4,
 "nbformat_minor": 4
}
